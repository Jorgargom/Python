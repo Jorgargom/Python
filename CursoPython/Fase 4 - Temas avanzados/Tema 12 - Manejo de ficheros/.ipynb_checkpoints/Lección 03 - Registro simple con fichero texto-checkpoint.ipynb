{
 "cells": [
  {
   "cell_type": "code",
   "execution_count": 11,
   "metadata": {
    "collapsed": false
   },
   "outputs": [],
   "source": [
    "class Pelicula:\n",
    "    \n",
    "    # Constructor de clase\n",
    "    def __init__(self, titulo, duracion, lanzamiento):\n",
    "        self.titulo = titulo\n",
    "        self.duracion = duracion\n",
    "        self.lanzamiento = lanzamiento\n",
    "        print('Se ha creado la película:',self.titulo)\n",
    "        \n",
    "        \n",
    "    def __str__(self):\n",
    "        return '{} ({})'.format(self.titulo, self.lanzamiento)\n",
    "        \n",
    "        \n",
    "    def texto(self):\n",
    "        \"\"\" Creamos una nueva función preparada para devolver una cadena con las peliculas\"\"\"\n",
    "        return '{}-{}-{}-\\n'.format(self.titulo, self.duracion, self.lanzamiento)\n",
    "\n",
    "    \n",
    "class Catalogo:\n",
    "    peliculas = []\n",
    "    \n",
    "    def __init__(self):\n",
    "        \"\"\" Al crear el catálogo leeremos el fichero y almacenaremos las películas en la lista \"\"\"\n",
    "        self.cargar()\n",
    "        \n",
    "        \n",
    "    def agregar(self,p):\n",
    "        self.peliculas.append(p)\n",
    "        self.guardar()\n",
    "        \n",
    "        \n",
    "    def mostrar(self):\n",
    "        for p in self.peliculas:\n",
    "            print(p)\n",
    "    \n",
    "    def cargar(self):\n",
    "        \"\"\" Leemos el fichero, o lo creamos si no existe \"\"\"\n",
    "        fichero = open(\"catalogo.txt\",'a+')\n",
    "        fichero.seek(0)\n",
    "        for p in fichero.readlines():\n",
    "            campos = p.split('-')\n",
    "            self.peliculas.append( Pelicula( campos[0], int(campos[1]), int(campos[2])) )\n",
    "        fichero.close()\n",
    "        print(\"Se han cargado {} películas\".format( len(self.peliculas)) )\n",
    "    \n",
    "    \n",
    "    def guardar(self):\n",
    "        \"\"\" Guardamos el fichero \"\"\"\n",
    "        fichero = open(\"catalogo.txt\",'w')\n",
    "        for p in self.peliculas:\n",
    "            fichero.write(p.texto())\n",
    "        fichero.close()"
   ]
  },
  {
   "cell_type": "code",
   "execution_count": 12,
   "metadata": {
    "collapsed": false
   },
   "outputs": [
    {
     "name": "stdout",
     "output_type": "stream",
     "text": [
      "Se ha creado la película: El Padrino\n",
      "Se ha creado la película: El Padrino: Parte 2\n",
      "Se han cargado 2 películas\n"
     ]
    }
   ],
   "source": [
    "c = Catalogo()"
   ]
  },
  {
   "cell_type": "code",
   "execution_count": 13,
   "metadata": {
    "collapsed": false
   },
   "outputs": [
    {
     "name": "stdout",
     "output_type": "stream",
     "text": [
      "El Padrino (1972)\n",
      "El Padrino: Parte 2 (1974)\n"
     ]
    }
   ],
   "source": [
    "c.mostrar()"
   ]
  },
  {
   "cell_type": "code",
   "execution_count": null,
   "metadata": {
    "collapsed": true
   },
   "outputs": [],
   "source": []
  }
 ],
 "metadata": {
  "kernelspec": {
   "display_name": "Python 3",
   "language": "python",
   "name": "python3"
  },
  "language_info": {
   "codemirror_mode": {
    "name": "ipython",
    "version": 3
   },
   "file_extension": ".py",
   "mimetype": "text/x-python",
   "name": "python",
   "nbconvert_exporter": "python",
   "pygments_lexer": "ipython3",
   "version": "3.5.1"
  }
 },
 "nbformat": 4,
 "nbformat_minor": 0
}
